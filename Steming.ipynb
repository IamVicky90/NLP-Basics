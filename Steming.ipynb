{
 "cells": [
  {
   "cell_type": "code",
   "execution_count": 1,
   "metadata": {},
   "outputs": [],
   "source": [
    "import nltk\n",
    "from nltk.stem import PorterStemmer \n",
    "from nltk.corpus import stopwords"
   ]
  },
  {
   "cell_type": "code",
   "execution_count": 2,
   "metadata": {},
   "outputs": [],
   "source": [
    "paragraph=\"\"\"I have three visions for India. In 3000 years of our history, people from all over \n",
    "               the world have come and invaded us, captured our lands, conquered our minds. \n",
    "               From Alexander onwards, the Greeks, the Turks, the Moguls, the Portuguese, the British,\n",
    "               the French, the Dutch, all of them came and looted us, took over what was ours. \n",
    "               Yet we have not done this to any other nation. We have not conquered anyone. \n",
    "               We have not grabbed their land, their culture, \n",
    "               their history and tried to enforce our way of life on them. \n",
    "               Why? Because we respect the freedom of others.That is why my \n",
    "               first vision is that of freedom. I believe that India got its first vision of \n",
    "               this in 1857, when we started the War of Independence. It is this freedom that\n",
    "               we must protect and nurture and build on. If we are not free, no one will respect us.\n",
    "               My second vision for India’s development. For fifty years we have been a developing nation.\n",
    "               It is time we see ourselves as a developed nation. We are among the top 5 nations of the world\n",
    "               in terms of GDP. We have a 10 percent growth rate in most areas. Our poverty levels are falling.\n",
    "               Our achievements are being globally recognised today. Yet we lack the self-confidence to\n",
    "               see ourselves as a developed nation, self-reliant and self-assured. Isn’t this incorrect?\n",
    "               I have a third vision. India must stand up to the world. Because I believe that unless India \n",
    "               stands up to the world, no one will respect us. Only strength respects strength. We must be \n",
    "               strong not only as a military power but also as an economic power. Both must go hand-in-hand. \n",
    "               My good fortune was to have worked with three great minds. Dr. Vikram Sarabhai of the Dept. of \n",
    "               space, Professor Satish Dhawan, who succeeded him and Dr. Brahm Prakash, father of nuclear material.\n",
    "               I was lucky to have worked with all three of them closely and consider this the great opportunity of my life. \n",
    "               I see four milestones in my career\"\"\""
   ]
  },
  {
   "cell_type": "code",
   "execution_count": 3,
   "metadata": {},
   "outputs": [],
   "source": [
    "stemming=PorterStemmer()"
   ]
  },
  {
   "cell_type": "code",
   "execution_count": 4,
   "metadata": {},
   "outputs": [],
   "source": [
    "sentences=nltk.sent_tokenize(paragraph)"
   ]
  },
  {
   "cell_type": "code",
   "execution_count": 5,
   "metadata": {},
   "outputs": [],
   "source": [
    "\n",
    "for i in range(len(sentences)):\n",
    "    words=nltk.word_tokenize(paragraph)\n",
    "    stem_words=[stemming.stem(word) for word in words if word not in set(stopwords.words(\"english\"))]\n",
    "    sentences[i]=\" \".join(stem_words)"
   ]
  },
  {
   "cell_type": "code",
   "execution_count": 6,
   "metadata": {},
   "outputs": [
    {
     "data": {
      "text/plain": [
       "245"
      ]
     },
     "execution_count": 6,
     "metadata": {},
     "output_type": "execute_result"
    }
   ],
   "source": [
    "len(stem_words)"
   ]
  },
  {
   "cell_type": "code",
   "execution_count": 7,
   "metadata": {},
   "outputs": [
    {
     "data": {
      "text/plain": [
       "2241"
      ]
     },
     "execution_count": 7,
     "metadata": {},
     "output_type": "execute_result"
    }
   ],
   "source": [
    "len(paragraph)"
   ]
  },
  {
   "cell_type": "code",
   "execution_count": 8,
   "metadata": {},
   "outputs": [
    {
     "data": {
      "text/plain": [
       "399"
      ]
     },
     "execution_count": 8,
     "metadata": {},
     "output_type": "execute_result"
    }
   ],
   "source": [
    "len(words)"
   ]
  },
  {
   "cell_type": "code",
   "execution_count": 9,
   "metadata": {},
   "outputs": [
    {
     "data": {
      "text/plain": [
       "['I three vision india . In 3000 year histori , peopl world come invad us , captur land , conquer mind . from alexand onward , greek , turk , mogul , portugues , british , french , dutch , came loot us , took . yet done nation . We conquer anyon . We grab land , cultur , histori tri enforc way life . whi ? becaus respect freedom others.that first vision freedom . I believ india got first vision 1857 , start war independ . It freedom must protect nurtur build . If free , one respect us . My second vision india ’ develop . for fifti year develop nation . It time see develop nation . We among top 5 nation world term gdp . We 10 percent growth rate area . our poverti level fall . our achiev global recognis today . yet lack self-confid see develop nation , self-reli self-assur . isn ’ incorrect ? I third vision . india must stand world . becaus I believ unless india stand world , one respect us . onli strength respect strength . We must strong militari power also econom power . both must go hand-in-hand . My good fortun work three great mind . dr. vikram sarabhai dept . space , professor satish dhawan , succeed dr. brahm prakash , father nuclear materi . I lucki work three close consid great opportun life . I see four mileston career',\n",
       " 'I three vision india . In 3000 year histori , peopl world come invad us , captur land , conquer mind . from alexand onward , greek , turk , mogul , portugues , british , french , dutch , came loot us , took . yet done nation . We conquer anyon . We grab land , cultur , histori tri enforc way life . whi ? becaus respect freedom others.that first vision freedom . I believ india got first vision 1857 , start war independ . It freedom must protect nurtur build . If free , one respect us . My second vision india ’ develop . for fifti year develop nation . It time see develop nation . We among top 5 nation world term gdp . We 10 percent growth rate area . our poverti level fall . our achiev global recognis today . yet lack self-confid see develop nation , self-reli self-assur . isn ’ incorrect ? I third vision . india must stand world . becaus I believ unless india stand world , one respect us . onli strength respect strength . We must strong militari power also econom power . both must go hand-in-hand . My good fortun work three great mind . dr. vikram sarabhai dept . space , professor satish dhawan , succeed dr. brahm prakash , father nuclear materi . I lucki work three close consid great opportun life . I see four mileston career',\n",
       " 'I three vision india . In 3000 year histori , peopl world come invad us , captur land , conquer mind . from alexand onward , greek , turk , mogul , portugues , british , french , dutch , came loot us , took . yet done nation . We conquer anyon . We grab land , cultur , histori tri enforc way life . whi ? becaus respect freedom others.that first vision freedom . I believ india got first vision 1857 , start war independ . It freedom must protect nurtur build . If free , one respect us . My second vision india ’ develop . for fifti year develop nation . It time see develop nation . We among top 5 nation world term gdp . We 10 percent growth rate area . our poverti level fall . our achiev global recognis today . yet lack self-confid see develop nation , self-reli self-assur . isn ’ incorrect ? I third vision . india must stand world . becaus I believ unless india stand world , one respect us . onli strength respect strength . We must strong militari power also econom power . both must go hand-in-hand . My good fortun work three great mind . dr. vikram sarabhai dept . space , professor satish dhawan , succeed dr. brahm prakash , father nuclear materi . I lucki work three close consid great opportun life . I see four mileston career',\n",
       " 'I three vision india . In 3000 year histori , peopl world come invad us , captur land , conquer mind . from alexand onward , greek , turk , mogul , portugues , british , french , dutch , came loot us , took . yet done nation . We conquer anyon . We grab land , cultur , histori tri enforc way life . whi ? becaus respect freedom others.that first vision freedom . I believ india got first vision 1857 , start war independ . It freedom must protect nurtur build . If free , one respect us . My second vision india ’ develop . for fifti year develop nation . It time see develop nation . We among top 5 nation world term gdp . We 10 percent growth rate area . our poverti level fall . our achiev global recognis today . yet lack self-confid see develop nation , self-reli self-assur . isn ’ incorrect ? I third vision . india must stand world . becaus I believ unless india stand world , one respect us . onli strength respect strength . We must strong militari power also econom power . both must go hand-in-hand . My good fortun work three great mind . dr. vikram sarabhai dept . space , professor satish dhawan , succeed dr. brahm prakash , father nuclear materi . I lucki work three close consid great opportun life . I see four mileston career',\n",
       " 'I three vision india . In 3000 year histori , peopl world come invad us , captur land , conquer mind . from alexand onward , greek , turk , mogul , portugues , british , french , dutch , came loot us , took . yet done nation . We conquer anyon . We grab land , cultur , histori tri enforc way life . whi ? becaus respect freedom others.that first vision freedom . I believ india got first vision 1857 , start war independ . It freedom must protect nurtur build . If free , one respect us . My second vision india ’ develop . for fifti year develop nation . It time see develop nation . We among top 5 nation world term gdp . We 10 percent growth rate area . our poverti level fall . our achiev global recognis today . yet lack self-confid see develop nation , self-reli self-assur . isn ’ incorrect ? I third vision . india must stand world . becaus I believ unless india stand world , one respect us . onli strength respect strength . We must strong militari power also econom power . both must go hand-in-hand . My good fortun work three great mind . dr. vikram sarabhai dept . space , professor satish dhawan , succeed dr. brahm prakash , father nuclear materi . I lucki work three close consid great opportun life . I see four mileston career',\n",
       " 'I three vision india . In 3000 year histori , peopl world come invad us , captur land , conquer mind . from alexand onward , greek , turk , mogul , portugues , british , french , dutch , came loot us , took . yet done nation . We conquer anyon . We grab land , cultur , histori tri enforc way life . whi ? becaus respect freedom others.that first vision freedom . I believ india got first vision 1857 , start war independ . It freedom must protect nurtur build . If free , one respect us . My second vision india ’ develop . for fifti year develop nation . It time see develop nation . We among top 5 nation world term gdp . We 10 percent growth rate area . our poverti level fall . our achiev global recognis today . yet lack self-confid see develop nation , self-reli self-assur . isn ’ incorrect ? I third vision . india must stand world . becaus I believ unless india stand world , one respect us . onli strength respect strength . We must strong militari power also econom power . both must go hand-in-hand . My good fortun work three great mind . dr. vikram sarabhai dept . space , professor satish dhawan , succeed dr. brahm prakash , father nuclear materi . I lucki work three close consid great opportun life . I see four mileston career',\n",
       " 'I three vision india . In 3000 year histori , peopl world come invad us , captur land , conquer mind . from alexand onward , greek , turk , mogul , portugues , british , french , dutch , came loot us , took . yet done nation . We conquer anyon . We grab land , cultur , histori tri enforc way life . whi ? becaus respect freedom others.that first vision freedom . I believ india got first vision 1857 , start war independ . It freedom must protect nurtur build . If free , one respect us . My second vision india ’ develop . for fifti year develop nation . It time see develop nation . We among top 5 nation world term gdp . We 10 percent growth rate area . our poverti level fall . our achiev global recognis today . yet lack self-confid see develop nation , self-reli self-assur . isn ’ incorrect ? I third vision . india must stand world . becaus I believ unless india stand world , one respect us . onli strength respect strength . We must strong militari power also econom power . both must go hand-in-hand . My good fortun work three great mind . dr. vikram sarabhai dept . space , professor satish dhawan , succeed dr. brahm prakash , father nuclear materi . I lucki work three close consid great opportun life . I see four mileston career',\n",
       " 'I three vision india . In 3000 year histori , peopl world come invad us , captur land , conquer mind . from alexand onward , greek , turk , mogul , portugues , british , french , dutch , came loot us , took . yet done nation . We conquer anyon . We grab land , cultur , histori tri enforc way life . whi ? becaus respect freedom others.that first vision freedom . I believ india got first vision 1857 , start war independ . It freedom must protect nurtur build . If free , one respect us . My second vision india ’ develop . for fifti year develop nation . It time see develop nation . We among top 5 nation world term gdp . We 10 percent growth rate area . our poverti level fall . our achiev global recognis today . yet lack self-confid see develop nation , self-reli self-assur . isn ’ incorrect ? I third vision . india must stand world . becaus I believ unless india stand world , one respect us . onli strength respect strength . We must strong militari power also econom power . both must go hand-in-hand . My good fortun work three great mind . dr. vikram sarabhai dept . space , professor satish dhawan , succeed dr. brahm prakash , father nuclear materi . I lucki work three close consid great opportun life . I see four mileston career',\n",
       " 'I three vision india . In 3000 year histori , peopl world come invad us , captur land , conquer mind . from alexand onward , greek , turk , mogul , portugues , british , french , dutch , came loot us , took . yet done nation . We conquer anyon . We grab land , cultur , histori tri enforc way life . whi ? becaus respect freedom others.that first vision freedom . I believ india got first vision 1857 , start war independ . It freedom must protect nurtur build . If free , one respect us . My second vision india ’ develop . for fifti year develop nation . It time see develop nation . We among top 5 nation world term gdp . We 10 percent growth rate area . our poverti level fall . our achiev global recognis today . yet lack self-confid see develop nation , self-reli self-assur . isn ’ incorrect ? I third vision . india must stand world . becaus I believ unless india stand world , one respect us . onli strength respect strength . We must strong militari power also econom power . both must go hand-in-hand . My good fortun work three great mind . dr. vikram sarabhai dept . space , professor satish dhawan , succeed dr. brahm prakash , father nuclear materi . I lucki work three close consid great opportun life . I see four mileston career',\n",
       " 'I three vision india . In 3000 year histori , peopl world come invad us , captur land , conquer mind . from alexand onward , greek , turk , mogul , portugues , british , french , dutch , came loot us , took . yet done nation . We conquer anyon . We grab land , cultur , histori tri enforc way life . whi ? becaus respect freedom others.that first vision freedom . I believ india got first vision 1857 , start war independ . It freedom must protect nurtur build . If free , one respect us . My second vision india ’ develop . for fifti year develop nation . It time see develop nation . We among top 5 nation world term gdp . We 10 percent growth rate area . our poverti level fall . our achiev global recognis today . yet lack self-confid see develop nation , self-reli self-assur . isn ’ incorrect ? I third vision . india must stand world . becaus I believ unless india stand world , one respect us . onli strength respect strength . We must strong militari power also econom power . both must go hand-in-hand . My good fortun work three great mind . dr. vikram sarabhai dept . space , professor satish dhawan , succeed dr. brahm prakash , father nuclear materi . I lucki work three close consid great opportun life . I see four mileston career',\n",
       " 'I three vision india . In 3000 year histori , peopl world come invad us , captur land , conquer mind . from alexand onward , greek , turk , mogul , portugues , british , french , dutch , came loot us , took . yet done nation . We conquer anyon . We grab land , cultur , histori tri enforc way life . whi ? becaus respect freedom others.that first vision freedom . I believ india got first vision 1857 , start war independ . It freedom must protect nurtur build . If free , one respect us . My second vision india ’ develop . for fifti year develop nation . It time see develop nation . We among top 5 nation world term gdp . We 10 percent growth rate area . our poverti level fall . our achiev global recognis today . yet lack self-confid see develop nation , self-reli self-assur . isn ’ incorrect ? I third vision . india must stand world . becaus I believ unless india stand world , one respect us . onli strength respect strength . We must strong militari power also econom power . both must go hand-in-hand . My good fortun work three great mind . dr. vikram sarabhai dept . space , professor satish dhawan , succeed dr. brahm prakash , father nuclear materi . I lucki work three close consid great opportun life . I see four mileston career',\n",
       " 'I three vision india . In 3000 year histori , peopl world come invad us , captur land , conquer mind . from alexand onward , greek , turk , mogul , portugues , british , french , dutch , came loot us , took . yet done nation . We conquer anyon . We grab land , cultur , histori tri enforc way life . whi ? becaus respect freedom others.that first vision freedom . I believ india got first vision 1857 , start war independ . It freedom must protect nurtur build . If free , one respect us . My second vision india ’ develop . for fifti year develop nation . It time see develop nation . We among top 5 nation world term gdp . We 10 percent growth rate area . our poverti level fall . our achiev global recognis today . yet lack self-confid see develop nation , self-reli self-assur . isn ’ incorrect ? I third vision . india must stand world . becaus I believ unless india stand world , one respect us . onli strength respect strength . We must strong militari power also econom power . both must go hand-in-hand . My good fortun work three great mind . dr. vikram sarabhai dept . space , professor satish dhawan , succeed dr. brahm prakash , father nuclear materi . I lucki work three close consid great opportun life . I see four mileston career',\n",
       " 'I three vision india . In 3000 year histori , peopl world come invad us , captur land , conquer mind . from alexand onward , greek , turk , mogul , portugues , british , french , dutch , came loot us , took . yet done nation . We conquer anyon . We grab land , cultur , histori tri enforc way life . whi ? becaus respect freedom others.that first vision freedom . I believ india got first vision 1857 , start war independ . It freedom must protect nurtur build . If free , one respect us . My second vision india ’ develop . for fifti year develop nation . It time see develop nation . We among top 5 nation world term gdp . We 10 percent growth rate area . our poverti level fall . our achiev global recognis today . yet lack self-confid see develop nation , self-reli self-assur . isn ’ incorrect ? I third vision . india must stand world . becaus I believ unless india stand world , one respect us . onli strength respect strength . We must strong militari power also econom power . both must go hand-in-hand . My good fortun work three great mind . dr. vikram sarabhai dept . space , professor satish dhawan , succeed dr. brahm prakash , father nuclear materi . I lucki work three close consid great opportun life . I see four mileston career',\n",
       " 'I three vision india . In 3000 year histori , peopl world come invad us , captur land , conquer mind . from alexand onward , greek , turk , mogul , portugues , british , french , dutch , came loot us , took . yet done nation . We conquer anyon . We grab land , cultur , histori tri enforc way life . whi ? becaus respect freedom others.that first vision freedom . I believ india got first vision 1857 , start war independ . It freedom must protect nurtur build . If free , one respect us . My second vision india ’ develop . for fifti year develop nation . It time see develop nation . We among top 5 nation world term gdp . We 10 percent growth rate area . our poverti level fall . our achiev global recognis today . yet lack self-confid see develop nation , self-reli self-assur . isn ’ incorrect ? I third vision . india must stand world . becaus I believ unless india stand world , one respect us . onli strength respect strength . We must strong militari power also econom power . both must go hand-in-hand . My good fortun work three great mind . dr. vikram sarabhai dept . space , professor satish dhawan , succeed dr. brahm prakash , father nuclear materi . I lucki work three close consid great opportun life . I see four mileston career',\n",
       " 'I three vision india . In 3000 year histori , peopl world come invad us , captur land , conquer mind . from alexand onward , greek , turk , mogul , portugues , british , french , dutch , came loot us , took . yet done nation . We conquer anyon . We grab land , cultur , histori tri enforc way life . whi ? becaus respect freedom others.that first vision freedom . I believ india got first vision 1857 , start war independ . It freedom must protect nurtur build . If free , one respect us . My second vision india ’ develop . for fifti year develop nation . It time see develop nation . We among top 5 nation world term gdp . We 10 percent growth rate area . our poverti level fall . our achiev global recognis today . yet lack self-confid see develop nation , self-reli self-assur . isn ’ incorrect ? I third vision . india must stand world . becaus I believ unless india stand world , one respect us . onli strength respect strength . We must strong militari power also econom power . both must go hand-in-hand . My good fortun work three great mind . dr. vikram sarabhai dept . space , professor satish dhawan , succeed dr. brahm prakash , father nuclear materi . I lucki work three close consid great opportun life . I see four mileston career',\n",
       " 'I three vision india . In 3000 year histori , peopl world come invad us , captur land , conquer mind . from alexand onward , greek , turk , mogul , portugues , british , french , dutch , came loot us , took . yet done nation . We conquer anyon . We grab land , cultur , histori tri enforc way life . whi ? becaus respect freedom others.that first vision freedom . I believ india got first vision 1857 , start war independ . It freedom must protect nurtur build . If free , one respect us . My second vision india ’ develop . for fifti year develop nation . It time see develop nation . We among top 5 nation world term gdp . We 10 percent growth rate area . our poverti level fall . our achiev global recognis today . yet lack self-confid see develop nation , self-reli self-assur . isn ’ incorrect ? I third vision . india must stand world . becaus I believ unless india stand world , one respect us . onli strength respect strength . We must strong militari power also econom power . both must go hand-in-hand . My good fortun work three great mind . dr. vikram sarabhai dept . space , professor satish dhawan , succeed dr. brahm prakash , father nuclear materi . I lucki work three close consid great opportun life . I see four mileston career',\n",
       " 'I three vision india . In 3000 year histori , peopl world come invad us , captur land , conquer mind . from alexand onward , greek , turk , mogul , portugues , british , french , dutch , came loot us , took . yet done nation . We conquer anyon . We grab land , cultur , histori tri enforc way life . whi ? becaus respect freedom others.that first vision freedom . I believ india got first vision 1857 , start war independ . It freedom must protect nurtur build . If free , one respect us . My second vision india ’ develop . for fifti year develop nation . It time see develop nation . We among top 5 nation world term gdp . We 10 percent growth rate area . our poverti level fall . our achiev global recognis today . yet lack self-confid see develop nation , self-reli self-assur . isn ’ incorrect ? I third vision . india must stand world . becaus I believ unless india stand world , one respect us . onli strength respect strength . We must strong militari power also econom power . both must go hand-in-hand . My good fortun work three great mind . dr. vikram sarabhai dept . space , professor satish dhawan , succeed dr. brahm prakash , father nuclear materi . I lucki work three close consid great opportun life . I see four mileston career',\n",
       " 'I three vision india . In 3000 year histori , peopl world come invad us , captur land , conquer mind . from alexand onward , greek , turk , mogul , portugues , british , french , dutch , came loot us , took . yet done nation . We conquer anyon . We grab land , cultur , histori tri enforc way life . whi ? becaus respect freedom others.that first vision freedom . I believ india got first vision 1857 , start war independ . It freedom must protect nurtur build . If free , one respect us . My second vision india ’ develop . for fifti year develop nation . It time see develop nation . We among top 5 nation world term gdp . We 10 percent growth rate area . our poverti level fall . our achiev global recognis today . yet lack self-confid see develop nation , self-reli self-assur . isn ’ incorrect ? I third vision . india must stand world . becaus I believ unless india stand world , one respect us . onli strength respect strength . We must strong militari power also econom power . both must go hand-in-hand . My good fortun work three great mind . dr. vikram sarabhai dept . space , professor satish dhawan , succeed dr. brahm prakash , father nuclear materi . I lucki work three close consid great opportun life . I see four mileston career',\n",
       " 'I three vision india . In 3000 year histori , peopl world come invad us , captur land , conquer mind . from alexand onward , greek , turk , mogul , portugues , british , french , dutch , came loot us , took . yet done nation . We conquer anyon . We grab land , cultur , histori tri enforc way life . whi ? becaus respect freedom others.that first vision freedom . I believ india got first vision 1857 , start war independ . It freedom must protect nurtur build . If free , one respect us . My second vision india ’ develop . for fifti year develop nation . It time see develop nation . We among top 5 nation world term gdp . We 10 percent growth rate area . our poverti level fall . our achiev global recognis today . yet lack self-confid see develop nation , self-reli self-assur . isn ’ incorrect ? I third vision . india must stand world . becaus I believ unless india stand world , one respect us . onli strength respect strength . We must strong militari power also econom power . both must go hand-in-hand . My good fortun work three great mind . dr. vikram sarabhai dept . space , professor satish dhawan , succeed dr. brahm prakash , father nuclear materi . I lucki work three close consid great opportun life . I see four mileston career',\n",
       " 'I three vision india . In 3000 year histori , peopl world come invad us , captur land , conquer mind . from alexand onward , greek , turk , mogul , portugues , british , french , dutch , came loot us , took . yet done nation . We conquer anyon . We grab land , cultur , histori tri enforc way life . whi ? becaus respect freedom others.that first vision freedom . I believ india got first vision 1857 , start war independ . It freedom must protect nurtur build . If free , one respect us . My second vision india ’ develop . for fifti year develop nation . It time see develop nation . We among top 5 nation world term gdp . We 10 percent growth rate area . our poverti level fall . our achiev global recognis today . yet lack self-confid see develop nation , self-reli self-assur . isn ’ incorrect ? I third vision . india must stand world . becaus I believ unless india stand world , one respect us . onli strength respect strength . We must strong militari power also econom power . both must go hand-in-hand . My good fortun work three great mind . dr. vikram sarabhai dept . space , professor satish dhawan , succeed dr. brahm prakash , father nuclear materi . I lucki work three close consid great opportun life . I see four mileston career',\n",
       " 'I three vision india . In 3000 year histori , peopl world come invad us , captur land , conquer mind . from alexand onward , greek , turk , mogul , portugues , british , french , dutch , came loot us , took . yet done nation . We conquer anyon . We grab land , cultur , histori tri enforc way life . whi ? becaus respect freedom others.that first vision freedom . I believ india got first vision 1857 , start war independ . It freedom must protect nurtur build . If free , one respect us . My second vision india ’ develop . for fifti year develop nation . It time see develop nation . We among top 5 nation world term gdp . We 10 percent growth rate area . our poverti level fall . our achiev global recognis today . yet lack self-confid see develop nation , self-reli self-assur . isn ’ incorrect ? I third vision . india must stand world . becaus I believ unless india stand world , one respect us . onli strength respect strength . We must strong militari power also econom power . both must go hand-in-hand . My good fortun work three great mind . dr. vikram sarabhai dept . space , professor satish dhawan , succeed dr. brahm prakash , father nuclear materi . I lucki work three close consid great opportun life . I see four mileston career',\n",
       " 'I three vision india . In 3000 year histori , peopl world come invad us , captur land , conquer mind . from alexand onward , greek , turk , mogul , portugues , british , french , dutch , came loot us , took . yet done nation . We conquer anyon . We grab land , cultur , histori tri enforc way life . whi ? becaus respect freedom others.that first vision freedom . I believ india got first vision 1857 , start war independ . It freedom must protect nurtur build . If free , one respect us . My second vision india ’ develop . for fifti year develop nation . It time see develop nation . We among top 5 nation world term gdp . We 10 percent growth rate area . our poverti level fall . our achiev global recognis today . yet lack self-confid see develop nation , self-reli self-assur . isn ’ incorrect ? I third vision . india must stand world . becaus I believ unless india stand world , one respect us . onli strength respect strength . We must strong militari power also econom power . both must go hand-in-hand . My good fortun work three great mind . dr. vikram sarabhai dept . space , professor satish dhawan , succeed dr. brahm prakash , father nuclear materi . I lucki work three close consid great opportun life . I see four mileston career',\n",
       " 'I three vision india . In 3000 year histori , peopl world come invad us , captur land , conquer mind . from alexand onward , greek , turk , mogul , portugues , british , french , dutch , came loot us , took . yet done nation . We conquer anyon . We grab land , cultur , histori tri enforc way life . whi ? becaus respect freedom others.that first vision freedom . I believ india got first vision 1857 , start war independ . It freedom must protect nurtur build . If free , one respect us . My second vision india ’ develop . for fifti year develop nation . It time see develop nation . We among top 5 nation world term gdp . We 10 percent growth rate area . our poverti level fall . our achiev global recognis today . yet lack self-confid see develop nation , self-reli self-assur . isn ’ incorrect ? I third vision . india must stand world . becaus I believ unless india stand world , one respect us . onli strength respect strength . We must strong militari power also econom power . both must go hand-in-hand . My good fortun work three great mind . dr. vikram sarabhai dept . space , professor satish dhawan , succeed dr. brahm prakash , father nuclear materi . I lucki work three close consid great opportun life . I see four mileston career',\n",
       " 'I three vision india . In 3000 year histori , peopl world come invad us , captur land , conquer mind . from alexand onward , greek , turk , mogul , portugues , british , french , dutch , came loot us , took . yet done nation . We conquer anyon . We grab land , cultur , histori tri enforc way life . whi ? becaus respect freedom others.that first vision freedom . I believ india got first vision 1857 , start war independ . It freedom must protect nurtur build . If free , one respect us . My second vision india ’ develop . for fifti year develop nation . It time see develop nation . We among top 5 nation world term gdp . We 10 percent growth rate area . our poverti level fall . our achiev global recognis today . yet lack self-confid see develop nation , self-reli self-assur . isn ’ incorrect ? I third vision . india must stand world . becaus I believ unless india stand world , one respect us . onli strength respect strength . We must strong militari power also econom power . both must go hand-in-hand . My good fortun work three great mind . dr. vikram sarabhai dept . space , professor satish dhawan , succeed dr. brahm prakash , father nuclear materi . I lucki work three close consid great opportun life . I see four mileston career',\n",
       " 'I three vision india . In 3000 year histori , peopl world come invad us , captur land , conquer mind . from alexand onward , greek , turk , mogul , portugues , british , french , dutch , came loot us , took . yet done nation . We conquer anyon . We grab land , cultur , histori tri enforc way life . whi ? becaus respect freedom others.that first vision freedom . I believ india got first vision 1857 , start war independ . It freedom must protect nurtur build . If free , one respect us . My second vision india ’ develop . for fifti year develop nation . It time see develop nation . We among top 5 nation world term gdp . We 10 percent growth rate area . our poverti level fall . our achiev global recognis today . yet lack self-confid see develop nation , self-reli self-assur . isn ’ incorrect ? I third vision . india must stand world . becaus I believ unless india stand world , one respect us . onli strength respect strength . We must strong militari power also econom power . both must go hand-in-hand . My good fortun work three great mind . dr. vikram sarabhai dept . space , professor satish dhawan , succeed dr. brahm prakash , father nuclear materi . I lucki work three close consid great opportun life . I see four mileston career',\n",
       " 'I three vision india . In 3000 year histori , peopl world come invad us , captur land , conquer mind . from alexand onward , greek , turk , mogul , portugues , british , french , dutch , came loot us , took . yet done nation . We conquer anyon . We grab land , cultur , histori tri enforc way life . whi ? becaus respect freedom others.that first vision freedom . I believ india got first vision 1857 , start war independ . It freedom must protect nurtur build . If free , one respect us . My second vision india ’ develop . for fifti year develop nation . It time see develop nation . We among top 5 nation world term gdp . We 10 percent growth rate area . our poverti level fall . our achiev global recognis today . yet lack self-confid see develop nation , self-reli self-assur . isn ’ incorrect ? I third vision . india must stand world . becaus I believ unless india stand world , one respect us . onli strength respect strength . We must strong militari power also econom power . both must go hand-in-hand . My good fortun work three great mind . dr. vikram sarabhai dept . space , professor satish dhawan , succeed dr. brahm prakash , father nuclear materi . I lucki work three close consid great opportun life . I see four mileston career',\n",
       " 'I three vision india . In 3000 year histori , peopl world come invad us , captur land , conquer mind . from alexand onward , greek , turk , mogul , portugues , british , french , dutch , came loot us , took . yet done nation . We conquer anyon . We grab land , cultur , histori tri enforc way life . whi ? becaus respect freedom others.that first vision freedom . I believ india got first vision 1857 , start war independ . It freedom must protect nurtur build . If free , one respect us . My second vision india ’ develop . for fifti year develop nation . It time see develop nation . We among top 5 nation world term gdp . We 10 percent growth rate area . our poverti level fall . our achiev global recognis today . yet lack self-confid see develop nation , self-reli self-assur . isn ’ incorrect ? I third vision . india must stand world . becaus I believ unless india stand world , one respect us . onli strength respect strength . We must strong militari power also econom power . both must go hand-in-hand . My good fortun work three great mind . dr. vikram sarabhai dept . space , professor satish dhawan , succeed dr. brahm prakash , father nuclear materi . I lucki work three close consid great opportun life . I see four mileston career',\n",
       " 'I three vision india . In 3000 year histori , peopl world come invad us , captur land , conquer mind . from alexand onward , greek , turk , mogul , portugues , british , french , dutch , came loot us , took . yet done nation . We conquer anyon . We grab land , cultur , histori tri enforc way life . whi ? becaus respect freedom others.that first vision freedom . I believ india got first vision 1857 , start war independ . It freedom must protect nurtur build . If free , one respect us . My second vision india ’ develop . for fifti year develop nation . It time see develop nation . We among top 5 nation world term gdp . We 10 percent growth rate area . our poverti level fall . our achiev global recognis today . yet lack self-confid see develop nation , self-reli self-assur . isn ’ incorrect ? I third vision . india must stand world . becaus I believ unless india stand world , one respect us . onli strength respect strength . We must strong militari power also econom power . both must go hand-in-hand . My good fortun work three great mind . dr. vikram sarabhai dept . space , professor satish dhawan , succeed dr. brahm prakash , father nuclear materi . I lucki work three close consid great opportun life . I see four mileston career',\n",
       " 'I three vision india . In 3000 year histori , peopl world come invad us , captur land , conquer mind . from alexand onward , greek , turk , mogul , portugues , british , french , dutch , came loot us , took . yet done nation . We conquer anyon . We grab land , cultur , histori tri enforc way life . whi ? becaus respect freedom others.that first vision freedom . I believ india got first vision 1857 , start war independ . It freedom must protect nurtur build . If free , one respect us . My second vision india ’ develop . for fifti year develop nation . It time see develop nation . We among top 5 nation world term gdp . We 10 percent growth rate area . our poverti level fall . our achiev global recognis today . yet lack self-confid see develop nation , self-reli self-assur . isn ’ incorrect ? I third vision . india must stand world . becaus I believ unless india stand world , one respect us . onli strength respect strength . We must strong militari power also econom power . both must go hand-in-hand . My good fortun work three great mind . dr. vikram sarabhai dept . space , professor satish dhawan , succeed dr. brahm prakash , father nuclear materi . I lucki work three close consid great opportun life . I see four mileston career',\n",
       " 'I three vision india . In 3000 year histori , peopl world come invad us , captur land , conquer mind . from alexand onward , greek , turk , mogul , portugues , british , french , dutch , came loot us , took . yet done nation . We conquer anyon . We grab land , cultur , histori tri enforc way life . whi ? becaus respect freedom others.that first vision freedom . I believ india got first vision 1857 , start war independ . It freedom must protect nurtur build . If free , one respect us . My second vision india ’ develop . for fifti year develop nation . It time see develop nation . We among top 5 nation world term gdp . We 10 percent growth rate area . our poverti level fall . our achiev global recognis today . yet lack self-confid see develop nation , self-reli self-assur . isn ’ incorrect ? I third vision . india must stand world . becaus I believ unless india stand world , one respect us . onli strength respect strength . We must strong militari power also econom power . both must go hand-in-hand . My good fortun work three great mind . dr. vikram sarabhai dept . space , professor satish dhawan , succeed dr. brahm prakash , father nuclear materi . I lucki work three close consid great opportun life . I see four mileston career',\n",
       " 'I three vision india . In 3000 year histori , peopl world come invad us , captur land , conquer mind . from alexand onward , greek , turk , mogul , portugues , british , french , dutch , came loot us , took . yet done nation . We conquer anyon . We grab land , cultur , histori tri enforc way life . whi ? becaus respect freedom others.that first vision freedom . I believ india got first vision 1857 , start war independ . It freedom must protect nurtur build . If free , one respect us . My second vision india ’ develop . for fifti year develop nation . It time see develop nation . We among top 5 nation world term gdp . We 10 percent growth rate area . our poverti level fall . our achiev global recognis today . yet lack self-confid see develop nation , self-reli self-assur . isn ’ incorrect ? I third vision . india must stand world . becaus I believ unless india stand world , one respect us . onli strength respect strength . We must strong militari power also econom power . both must go hand-in-hand . My good fortun work three great mind . dr. vikram sarabhai dept . space , professor satish dhawan , succeed dr. brahm prakash , father nuclear materi . I lucki work three close consid great opportun life . I see four mileston career']"
      ]
     },
     "execution_count": 9,
     "metadata": {},
     "output_type": "execute_result"
    }
   ],
   "source": [
    "sentences"
   ]
  },
  {
   "cell_type": "code",
   "execution_count": 10,
   "metadata": {},
   "outputs": [
    {
     "data": {
      "text/plain": [
       "['I',\n",
       " 'three',\n",
       " 'vision',\n",
       " 'india',\n",
       " '.',\n",
       " 'In',\n",
       " '3000',\n",
       " 'year',\n",
       " 'histori',\n",
       " ',',\n",
       " 'peopl',\n",
       " 'world',\n",
       " 'come',\n",
       " 'invad',\n",
       " 'us',\n",
       " ',',\n",
       " 'captur',\n",
       " 'land',\n",
       " ',',\n",
       " 'conquer',\n",
       " 'mind',\n",
       " '.',\n",
       " 'from',\n",
       " 'alexand',\n",
       " 'onward',\n",
       " ',',\n",
       " 'greek',\n",
       " ',',\n",
       " 'turk',\n",
       " ',',\n",
       " 'mogul',\n",
       " ',',\n",
       " 'portugues',\n",
       " ',',\n",
       " 'british',\n",
       " ',',\n",
       " 'french',\n",
       " ',',\n",
       " 'dutch',\n",
       " ',',\n",
       " 'came',\n",
       " 'loot',\n",
       " 'us',\n",
       " ',',\n",
       " 'took',\n",
       " '.',\n",
       " 'yet',\n",
       " 'done',\n",
       " 'nation',\n",
       " '.',\n",
       " 'We',\n",
       " 'conquer',\n",
       " 'anyon',\n",
       " '.',\n",
       " 'We',\n",
       " 'grab',\n",
       " 'land',\n",
       " ',',\n",
       " 'cultur',\n",
       " ',',\n",
       " 'histori',\n",
       " 'tri',\n",
       " 'enforc',\n",
       " 'way',\n",
       " 'life',\n",
       " '.',\n",
       " 'whi',\n",
       " '?',\n",
       " 'becaus',\n",
       " 'respect',\n",
       " 'freedom',\n",
       " 'others.that',\n",
       " 'first',\n",
       " 'vision',\n",
       " 'freedom',\n",
       " '.',\n",
       " 'I',\n",
       " 'believ',\n",
       " 'india',\n",
       " 'got',\n",
       " 'first',\n",
       " 'vision',\n",
       " '1857',\n",
       " ',',\n",
       " 'start',\n",
       " 'war',\n",
       " 'independ',\n",
       " '.',\n",
       " 'It',\n",
       " 'freedom',\n",
       " 'must',\n",
       " 'protect',\n",
       " 'nurtur',\n",
       " 'build',\n",
       " '.',\n",
       " 'If',\n",
       " 'free',\n",
       " ',',\n",
       " 'one',\n",
       " 'respect',\n",
       " 'us',\n",
       " '.',\n",
       " 'My',\n",
       " 'second',\n",
       " 'vision',\n",
       " 'india',\n",
       " '’',\n",
       " 'develop',\n",
       " '.',\n",
       " 'for',\n",
       " 'fifti',\n",
       " 'year',\n",
       " 'develop',\n",
       " 'nation',\n",
       " '.',\n",
       " 'It',\n",
       " 'time',\n",
       " 'see',\n",
       " 'develop',\n",
       " 'nation',\n",
       " '.',\n",
       " 'We',\n",
       " 'among',\n",
       " 'top',\n",
       " '5',\n",
       " 'nation',\n",
       " 'world',\n",
       " 'term',\n",
       " 'gdp',\n",
       " '.',\n",
       " 'We',\n",
       " '10',\n",
       " 'percent',\n",
       " 'growth',\n",
       " 'rate',\n",
       " 'area',\n",
       " '.',\n",
       " 'our',\n",
       " 'poverti',\n",
       " 'level',\n",
       " 'fall',\n",
       " '.',\n",
       " 'our',\n",
       " 'achiev',\n",
       " 'global',\n",
       " 'recognis',\n",
       " 'today',\n",
       " '.',\n",
       " 'yet',\n",
       " 'lack',\n",
       " 'self-confid',\n",
       " 'see',\n",
       " 'develop',\n",
       " 'nation',\n",
       " ',',\n",
       " 'self-reli',\n",
       " 'self-assur',\n",
       " '.',\n",
       " 'isn',\n",
       " '’',\n",
       " 'incorrect',\n",
       " '?',\n",
       " 'I',\n",
       " 'third',\n",
       " 'vision',\n",
       " '.',\n",
       " 'india',\n",
       " 'must',\n",
       " 'stand',\n",
       " 'world',\n",
       " '.',\n",
       " 'becaus',\n",
       " 'I',\n",
       " 'believ',\n",
       " 'unless',\n",
       " 'india',\n",
       " 'stand',\n",
       " 'world',\n",
       " ',',\n",
       " 'one',\n",
       " 'respect',\n",
       " 'us',\n",
       " '.',\n",
       " 'onli',\n",
       " 'strength',\n",
       " 'respect',\n",
       " 'strength',\n",
       " '.',\n",
       " 'We',\n",
       " 'must',\n",
       " 'strong',\n",
       " 'militari',\n",
       " 'power',\n",
       " 'also',\n",
       " 'econom',\n",
       " 'power',\n",
       " '.',\n",
       " 'both',\n",
       " 'must',\n",
       " 'go',\n",
       " 'hand-in-hand',\n",
       " '.',\n",
       " 'My',\n",
       " 'good',\n",
       " 'fortun',\n",
       " 'work',\n",
       " 'three',\n",
       " 'great',\n",
       " 'mind',\n",
       " '.',\n",
       " 'dr.',\n",
       " 'vikram',\n",
       " 'sarabhai',\n",
       " 'dept',\n",
       " '.',\n",
       " 'space',\n",
       " ',',\n",
       " 'professor',\n",
       " 'satish',\n",
       " 'dhawan',\n",
       " ',',\n",
       " 'succeed',\n",
       " 'dr.',\n",
       " 'brahm',\n",
       " 'prakash',\n",
       " ',',\n",
       " 'father',\n",
       " 'nuclear',\n",
       " 'materi',\n",
       " '.',\n",
       " 'I',\n",
       " 'lucki',\n",
       " 'work',\n",
       " 'three',\n",
       " 'close',\n",
       " 'consid',\n",
       " 'great',\n",
       " 'opportun',\n",
       " 'life',\n",
       " '.',\n",
       " 'I',\n",
       " 'see',\n",
       " 'four',\n",
       " 'mileston',\n",
       " 'career']"
      ]
     },
     "execution_count": 10,
     "metadata": {},
     "output_type": "execute_result"
    }
   ],
   "source": [
    "stem_words"
   ]
  },
  {
   "cell_type": "code",
   "execution_count": null,
   "metadata": {},
   "outputs": [],
   "source": []
  }
 ],
 "metadata": {
  "kernelspec": {
   "display_name": "Python 3",
   "language": "python",
   "name": "python3"
  },
  "language_info": {
   "codemirror_mode": {
    "name": "ipython",
    "version": 3
   },
   "file_extension": ".py",
   "mimetype": "text/x-python",
   "name": "python",
   "nbconvert_exporter": "python",
   "pygments_lexer": "ipython3",
   "version": "3.8.2"
  }
 },
 "nbformat": 4,
 "nbformat_minor": 4
}
